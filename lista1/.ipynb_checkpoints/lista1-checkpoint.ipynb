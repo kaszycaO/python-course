{
 "cells": [
  {
   "cell_type": "markdown",
   "metadata": {},
   "source": [
    "# Lista 1\n",
    "\n",
    "## Kurs wybranego języka programowania (Python)\n",
    "\n",
    "Wszystkie rozwiązania proszę wpisać w tym notatniku poniżej treści zadań. Zadania z `*` to zadania dodatkowe."
   ]
  },
  {
   "cell_type": "markdown",
   "metadata": {},
   "source": [
    "\n",
    "## Zadanie 1 _(5pt)_\n",
    "\n",
    "Napisz funkcję, który wyświetla trójkąt Pascala o zadanej wysokości\n",
    "```\n",
    "                1\n",
    "              1   1\n",
    "            1   2   1\n",
    "          1   3   3   1\n",
    "        1   4   6   4   1\n",
    "      .....................\n",
    "```"
   ]
  },
  {
   "cell_type": "code",
   "execution_count": 3,
   "metadata": {},
   "outputs": [
    {
     "name": "stdout",
     "output_type": "stream",
     "text": [
      "     1 \n",
      "    1 1 \n",
      "   1 2 1 \n",
      "  1 3 3 1 \n",
      " 1 4 6 4 1 \n"
     ]
    }
   ],
   "source": [
    "def pascal_triangle(n):\n",
    "    space = ' '\n",
    "    #kolejne wyrazy\n",
    "    number = 1\n",
    "\n",
    "    for i in range(n+1):\n",
    "        #odpowiednie ustawienie\n",
    "        print(space * (n-i+1), end = '')\n",
    "\n",
    "        for j in range(i+1):\n",
    "            if i == 0 or j == 0:\n",
    "                number == 1\n",
    "            else:\n",
    "                number = int(number*(i-j+1)/j)\n",
    "\n",
    "            print(number,end = ' ')\n",
    "\n",
    "        print('')\n",
    "\n",
    "pascal_triangle(4)"
   ]
  },
  {
   "cell_type": "markdown",
   "metadata": {},
   "source": [
    "## Zadanie 2 _(5pt)_\n",
    "\n",
    "Napisz funkcję `primes(n)` zwracająca listę liczb pierwszych nie większych niż $n$ np.\n",
    "\n",
    "```\n",
    "In [ ]:   primes(6)\n",
    "Out [ ]: [2, 3, 5]\n",
    "```"
   ]
  },
  {
   "cell_type": "code",
   "execution_count": 4,
   "metadata": {},
   "outputs": [
    {
     "name": "stdout",
     "output_type": "stream",
     "text": [
      "[2, 3, 5]\n"
     ]
    }
   ],
   "source": [
    "def primes(n):\n",
    "    my_primes = []\n",
    "    for i in range(2,n+1):\n",
    "        prime = True\n",
    "        for j in range(2,i):\n",
    "            if i%j == 0 and i != j:\n",
    "                prime = False\n",
    "                break\n",
    "        if prime:\n",
    "            my_primes.append(i)\n",
    "    return my_primes\n",
    "\n",
    "print(primes(6))"
   ]
  },
  {
   "cell_type": "markdown",
   "metadata": {},
   "source": [
    "## Zadanie 3 _(5pt)_\n",
    "\n",
    "Napisz funkcje, która usuwa wszystkie powtarzające się elementy z listy (tak, że każdy element występuje tylko raz) np. z listy `[1,1,2,2,2,3,3,5,5,5,4,4,4,0]` dostajemy `[1,2,3,5,4,0]`."
   ]
  },
  {
   "cell_type": "code",
   "execution_count": 5,
   "metadata": {},
   "outputs": [
    {
     "name": "stdout",
     "output_type": "stream",
     "text": [
      "[0, 1, 2, 3, 4, 5]\n"
     ]
    }
   ],
   "source": [
    "def rem_same(bad_list):\n",
    "    helper = set(bad_list)\n",
    "    return list(helper)\n",
    "\n",
    "\n",
    "lista = [1,1,2,2,2,3,3,5,5,5,4,4,4,0]\n",
    "print(rem_same(lista))"
   ]
  },
  {
   "cell_type": "markdown",
   "metadata": {},
   "source": [
    "## Zadanie 4 _(10pt)_\n",
    "\n",
    "Napisz funkcję `prime_factors(n)`, która rozkłada $n$ na czynniki pierwsze i jako wynik wraca listę par $[(p_1,\\alpha_1), (p_2,\\alpha_2), \\ldots, (p_k, \\alpha_k)]$ taką, że $p_1^{\\alpha_1}p_2^{\\alpha_2}\\ldots p_k^{\\alpha_k}$.\n"
   ]
  },
  {
   "cell_type": "code",
   "execution_count": 32,
   "metadata": {},
   "outputs": [
    {
     "name": "stdout",
     "output_type": "stream",
     "text": [
      "[(83, 1), (149, 1)]\n"
     ]
    }
   ],
   "source": [
    "def prime_factors(n):\n",
    "    result = []\n",
    "    for i in range(2,n+1):\n",
    "        counter = 0\n",
    "        if n != 0:\n",
    "            while n%i == 0 and n != 0 :\n",
    "                counter+=1\n",
    "                n = n/i\n",
    "        else:\n",
    "            break\n",
    "\n",
    "        if counter != 0:\n",
    "            result.append((i,counter))\n",
    "\n",
    "    return result\n",
    "\n",
    "print(prime_factors(12367))\n",
    "            "
   ]
  },
  {
   "cell_type": "markdown",
   "metadata": {},
   "source": [
    "## Zadanie 5 _(10pt)_\n",
    "\n",
    "Napisz funkcję `fraczero(n)` liczącą silnie $n!$ dla $n$ od $0$ do $10000$ oraz jako wynik wraca liczbę zer na końcu $n!$."
   ]
  },
  {
   "cell_type": "code",
   "execution_count": 27,
   "metadata": {},
   "outputs": [
    {
     "name": "stdout",
     "output_type": "stream",
     "text": [
      "2499\n"
     ]
    }
   ],
   "source": [
    "from math import factorial\n",
    "\n",
    "def fraczero(n):\n",
    "\n",
    "    silnia = factorial(n)\n",
    "    str_silnia = str(silnia)\n",
    "    counter = 0\n",
    "\n",
    "\n",
    "    for i in range(len(str_silnia)-1, 0, -1):\n",
    "        if str_silnia[i] == '0':\n",
    "            counter+=1\n",
    "        else:\n",
    "            break\n",
    "\n",
    "    return counter\n",
    "\n",
    "print(fraczero(10000))\n"
   ]
  },
  {
   "cell_type": "markdown",
   "metadata": {},
   "source": [
    "## Zadanie 6 _(10pt)_\n",
    "\n",
    "Napisz program, który generuje liczbę $20$ liczb losowych (rozkład jednostajny) od $1$ do $100$\n",
    "* Wyświetl listę wygenerowanych liczb\n",
    "* Wyświetl średnią\n",
    "* Wyświetl największą i najmniejszą wartość\n",
    "* Wyświetl drugą największą i drugą najmniejszą wartość na liście\n",
    "* Wyświetl ile jest liczb parzystych na liście\n",
    " "
   ]
  },
  {
   "cell_type": "code",
   "execution_count": 28,
   "metadata": {},
   "outputs": [
    {
     "name": "stdout",
     "output_type": "stream",
     "text": [
      "Wylosowana lista:  [55, 82, 49, 29, 8, 46, 42, 5, 70, 10, 2, 71, 96, 73, 3, 1, 66, 86, 24, 28]\n",
      "Posortowana lista:  [1, 2, 3, 5, 8, 10, 24, 28, 29, 42, 46, 49, 55, 66, 70, 71, 73, 82, 86, 96]\n",
      "Najmniejsza wartosc:  1\n",
      "Najwieksza wartosc:  96\n",
      "Druga najmniejsza wartosc:  2\n",
      "Druga najwieksza wartosc:  86\n",
      "Srednia to:  42.3\n",
      "Liczba liczb parzystych:  12\n"
     ]
    }
   ],
   "source": [
    "from random import randint\n",
    "\n",
    "def get_random(n):\n",
    "    randoms = []\n",
    "\n",
    "    for i in range(20):\n",
    "        randoms.append(randint(0, 100))\n",
    "\n",
    "    return randoms\n",
    "\n",
    "def num_of_even(randoms):\n",
    "    counter = 0\n",
    "    for i in randoms:\n",
    "        if i%2 == 0:\n",
    "            counter+=1\n",
    "\n",
    "    return counter\n",
    "\n",
    "def find_value(randoms, type):\n",
    "    new_randoms = list(set(randoms))\n",
    "    new_randoms.sort()\n",
    "    if type == \"min\":\n",
    "        value = new_randoms[1]\n",
    "    elif type == \"max\":\n",
    "        value = new_randoms[len(new_randoms)-2]\n",
    "    return value\n",
    "\n",
    "\n",
    "my_randoms = get_random(20)\n",
    "\n",
    "print(\"Wylosowana lista: \", my_randoms)\n",
    "my_randoms.sort()\n",
    "print(\"Posortowana lista: \", my_randoms)\n",
    "\n",
    "print(\"Najmniejsza wartosc: \", my_randoms[0])\n",
    "print(\"Najwieksza wartosc: \", my_randoms[len(my_randoms)-1])\n",
    "\n",
    "print(\"Druga najmniejsza wartosc: \", find_value(my_randoms, \"min\"))\n",
    "print(\"Druga najwieksza wartosc: \", find_value(my_randoms,\"max\"))\n",
    "\n",
    "average = sum(my_randoms)/len(my_randoms)\n",
    "print(\"Srednia to: \", average)\n",
    "print(\"Liczba liczb parzystych: \", num_of_even(my_randoms))"
   ]
  },
  {
   "cell_type": "markdown",
   "metadata": {},
   "source": [
    "## Zadanie 7 _(10pt)_\n",
    "\n",
    "Załóżmy, że mamy następującą listę: `L = ['aababacaa', 'cabaabcca', 'aaabbcbacb', 'acababbaab', ...]` wygenerowaną losowo tzn. lista zawiera losowe ciągi znaków o zadanej długości z liter `'a'`, `'b'` i `'c'`. Takie wzorce występują w wielu miejscach np. sekwencje DNA. Użytkownik zawiera swój (wzorzec) ciąg znaków z literami i pustymi miejscami oznaczonymi przez `'*'` np. `\"a**a******\"`. Wykorzystaj słownik z kluczami zawierającymi indeksy znaków różnych od `'*'` i wartościami liter z wzorca. Napisz program, który znajduje wszystkie sekwencje z listy, które pasuje do podanego wzorca."
   ]
  },
  {
   "cell_type": "code",
   "execution_count": 6,
   "metadata": {},
   "outputs": [
    {
     "name": "stdout",
     "output_type": "stream",
     "text": [
      "Podaj swoj kod: a**b**c\n",
      "['acbbacc', 'acabcbc', 'aaababc', 'abbbcac', 'abbbbbc', 'ababcbc']\n"
     ]
    }
   ],
   "source": [
    "from random import randint\n",
    "def create_list(size, length):\n",
    "    my_list = []\n",
    "    for i in range(0, size):\n",
    "        my_string = ''\n",
    "        for j in range(0, length):\n",
    "            var = randint(0,2)\n",
    "            if var == 0:\n",
    "                my_string += 'a'\n",
    "            elif var == 1:\n",
    "                my_string += 'b'\n",
    "            else:\n",
    "                my_string += 'c'\n",
    "\n",
    "        my_list.append(my_string)\n",
    "\n",
    "    return my_list\n",
    "\n",
    "def to_dictionary(user_string):\n",
    "    my_dic = {}\n",
    "    for i in range(len(user_string)):\n",
    "        if user_string[i] != '*':\n",
    "            my_dic[i] = user_string[i]\n",
    "    return my_dic\n",
    "\n",
    "def match(pattern, user_dic):\n",
    "    correct = []\n",
    "    for pat in pattern:\n",
    "        if_good = True\n",
    "        for j in user_dic:\n",
    "             if user_dic[j] != pat[j]:\n",
    "                 if_good = False\n",
    "        if if_good:\n",
    "            correct.append(pat)\n",
    "    return correct\n",
    "\n",
    "\n",
    "user_input = input(\"Podaj swoj kod: \")\n",
    "pattern = create_list(len(user_input)*20, len(user_input))\n",
    "\n",
    "my_dic = to_dictionary(user_input)\n",
    "print(match(pattern, my_dic))"
   ]
  },
  {
   "cell_type": "markdown",
   "metadata": {},
   "source": [
    "## Zadanie 8 _(10pt)_\n",
    "\n",
    "Napisz program, który konwerteruje liczby rzymskie na liczby arabskie. Do zapisu liczb rzymskich używa\n",
    "się 7 liter: `I=1`, `V=5`, `X=10`, `L=50`, `C=100`, `D=500`, `M=1000`. Opis algorytmu zamiany z i na system rzymski można znaleźć np. [tutaj](http://www.algorytm.org/algorytmy-arytmetyczne/zamiana-z-i-na-system-rzymski.html)"
   ]
  },
  {
   "cell_type": "code",
   "execution_count": 40,
   "metadata": {},
   "outputs": [
    {
     "name": "stdout",
     "output_type": "stream",
     "text": [
      "Podaj liczbe rzymska: MMMCDXII\n",
      "3412\n"
     ]
    }
   ],
   "source": [
    "def converter(roman_number):\n",
    "    pattern = {'I': 1, 'V': 5, 'X': 10, 'L': 50, 'C': 100, 'D': 500, 'M': 1000}\n",
    "    last = 0\n",
    "    converted_num = 0\n",
    "\n",
    "    for rom in reversed(roman_number.upper()):\n",
    "        var = pattern[rom]\n",
    "        if var >= last:\n",
    "            last = var\n",
    "            converted_num += var\n",
    "        else:\n",
    "            converted_num -= var\n",
    "    return converted_num\n",
    "\n",
    "\n",
    "\n",
    "x = input(\"Podaj liczbe rzymska: \")\n",
    "print(converter(x))\n"
   ]
  },
  {
   "cell_type": "markdown",
   "metadata": {},
   "source": [
    "## Zadanie 9* _(5pt)_\n",
    "\n",
    "Napisz program kalkulator, który pobiera wprowadzone wartości oraz funkcje z klawiatury następnie podaje wynik. W przypadku błędnych danych zgłasza błąd.\n",
    "\n",
    "Przykładowa sesja:\n",
    "```\n",
    "    Kalkulator\n",
    "    [1]: 2+5*10\n",
    "        52\n",
    "    [2]: sin(0.5)+cos(0.3)\n",
    "        1.434762027729809\n",
    "    [3]: 2^100\n",
    "        1267650600228229401496703205376\n",
    "```\n",
    "\n",
    "Przykładowy kod pobierania danych od użytkownika:\n",
    "\n",
    "```\n",
    "    x = input('Podaj x = ')\n",
    "```"
   ]
  },
  {
   "cell_type": "code",
   "execution_count": null,
   "metadata": {},
   "outputs": [
    {
     "name": "stdout",
     "output_type": "stream",
     "text": [
      "Kalkulator: \n",
      "Nacisnij 'q' zeby zakonczyc\n",
      "2+5*10\n",
      "52\n",
      "sin(0.5)+cos(0.3)\n",
      "1.434762027729809\n",
      "2**100\n",
      "1267650600228229401496703205376\n"
     ]
    }
   ],
   "source": [
    "from math import *\n",
    "\n",
    "def calculator(input):\n",
    "\n",
    "    try:\n",
    "        output = eval(input)\n",
    "    except (ValueError, TypeError, SyntaxError, NameError, ZeroDivisionError):\n",
    "        print(\"Bledne dane!\")\n",
    "        return\n",
    "\n",
    "    print(output)\n",
    "\n",
    "print(\"Kalkulator: \")\n",
    "print(\"Nacisnij 'q' zeby zakonczyc\")\n",
    "while True:\n",
    "    x = input()\n",
    "    if x == 'q':\n",
    "        break\n",
    "    else:\n",
    "        calculator(x)"
   ]
  },
  {
   "cell_type": "markdown",
   "metadata": {},
   "source": [
    "\n",
    "## Zadanie 10* _(10pt)_\n",
    "\n",
    "Napisz program, który rysuje na ekranie w trybie znakowym wykres funkcji zmiennej $x$. Wskazówka: utwórz  ,,tablicę dwuwymiarową'' o wymiarach 80x24 i narysuj wykres w tej tablicy. Następnie wynik wyświetl na ekranie.\n",
    "\n",
    "```\n",
    "        Podaj funkcje f(x) = sin(x)\n",
    "        Podaj początek przedziału a = -pi\n",
    "        Podaj koniec przedziału b = pi\n",
    "                                                |\n",
    "                                                |\n",
    "                                                |              ***********\n",
    "                                                |           ***           ***\n",
    "                                                |         **                 **\n",
    "                                                |        *                     *\n",
    "                                                |      **                       **\n",
    "                                                |     *                           *\n",
    "                                                |   **                             **\n",
    "                                                |  *                                 *\n",
    "                                                | *                                   *\n",
    "                                                |*                                     *\n",
    "        ----------------------------------------|---------------------------------------\n",
    "          *                                   * |\n",
    "           *                                 *  |\n",
    "            **                             **   |\n",
    "              *                           *     |\n",
    "               **                       **      |\n",
    "                 *                     *        |\n",
    "                  **                 **         |\n",
    "                    ***           ***           |\n",
    "                       ***** *****              |\n",
    "                            *                   |\n",
    "                                                |\n",
    "```"
   ]
  },
  {
   "cell_type": "code",
   "execution_count": 13,
   "metadata": {},
   "outputs": [
    {
     "name": "stdout",
     "output_type": "stream",
     "text": [
      "Podaj f(x): sin(x)\n",
      "Podaj początek przedziału a: -pi\n",
      "Podaj koniec przedziału b: pi\n",
      "\n",
      "\n",
      "                                       |                ********               \n",
      "                                       |             ***        **             \n",
      "                                       |           **             **           \n",
      "                                       |         **                 **         \n",
      "                                       |        *                     **       \n",
      "                                       |       *                        *      \n",
      "                                       |     **                          *     \n",
      "                                       |    *                             *    \n",
      "                                       |   *                               **  \n",
      "                                       |  *                                  * \n",
      "                                       | *                                    *\n",
      "*--------------------------------------**--------------------------------------\n",
      " *                                    *|                                       \n",
      "  *                                  * |                                       \n",
      "   **                               *  |                                       \n",
      "     *                             *   |                                       \n",
      "      *                          **    |                                       \n",
      "       *                        *      |                                       \n",
      "        **                     *       |                                       \n",
      "          **                 **        |                                       \n",
      "            **             **          |                                       \n",
      "              **        ***            |                                       \n",
      "                ********               |                                       \n"
     ]
    }
   ],
   "source": [
    "from math import *\n",
    "\n",
    "x_size, y_size = 79, 23\n",
    "\n",
    "def init_my_tab():\n",
    "    return [[\" \"for i in range(y_size+1)] for j in range(x_size+1)]\n",
    "\n",
    "def add_coordinate(my_tab, begin):\n",
    "    for i in range(x_size):\n",
    "        my_tab[i][y_size//2] = \"-\"\n",
    "\n",
    "        if(i < y_size and begin < 0):\n",
    "            my_tab[x_size//2][i] = \"|\"\n",
    "\n",
    "    return my_tab\n",
    "\n",
    "def get_values(user_function, begin, end):\n",
    "\n",
    "    function_var = {}\n",
    "    counter = (end - begin) / x_size\n",
    "    helper = 0\n",
    "\n",
    "    while end > begin:\n",
    "        try:\n",
    "            var = eval(user_function.replace('x', str(begin)))\n",
    "            function_var[helper] = var\n",
    "            begin += counter\n",
    "        except Exception as e:\n",
    "            begin += counter\n",
    "\n",
    "        helper+=1\n",
    "    return function_var\n",
    "\n",
    "\n",
    "def fill_tab(my_tab, values):\n",
    "    scaler = ((y_size)//2) / max(max(values.values()),abs(min(values.values())))\n",
    "    for i in values:\n",
    "        values[i] = -(round(values[i]*scaler) - y_size//2)\n",
    "\n",
    "    for i in values:\n",
    "        my_tab[i][values[i]] = \"*\"\n",
    "    return my_tab\n",
    "\n",
    "def draw_my_tab(my_tab):\n",
    "    print(\"\\n\")\n",
    "    for i in range(y_size):\n",
    "        for j in range(x_size):\n",
    "            print(my_tab[j][i], end=\"\")\n",
    "        print(\"\")\n",
    "\n",
    "\n",
    "\n",
    "function = input(\"Podaj f(x): \")\n",
    "a = input(\"Podaj początek przedziału a: \")\n",
    "b = input(\"Podaj koniec przedziału b: \")\n",
    "try:\n",
    "    begin = eval(a)\n",
    "    end = eval(b)\n",
    "    my_var = get_values(function ,begin ,end)\n",
    "    my_tab = init_my_tab()\n",
    "    my_tab = add_coordinate(my_tab, begin)\n",
    "    my_tab = fill_tab(my_tab, my_var)\n",
    "    draw_my_tab(my_tab)\n",
    "\n",
    "except Exception as e:\n",
    "    print(\"Bledne dane!\")\n"
   ]
  },
  {
   "cell_type": "code",
   "execution_count": null,
   "metadata": {},
   "outputs": [],
   "source": []
  },
  {
   "cell_type": "code",
   "execution_count": null,
   "metadata": {},
   "outputs": [],
   "source": []
  }
 ],
 "metadata": {
  "kernelspec": {
   "display_name": "Python 3",
   "language": "python",
   "name": "python3"
  },
  "language_info": {
   "codemirror_mode": {
    "name": "ipython",
    "version": 3
   },
   "file_extension": ".py",
   "mimetype": "text/x-python",
   "name": "python",
   "nbconvert_exporter": "python",
   "pygments_lexer": "ipython3",
   "version": "3.7.4"
  }
 },
 "nbformat": 4,
 "nbformat_minor": 2
}

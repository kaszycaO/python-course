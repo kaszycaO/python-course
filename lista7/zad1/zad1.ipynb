{
  "nbformat": 4,
  "nbformat_minor": 0,
  "metadata": {
    "kernelspec": {
      "display_name": "Python 3",
      "language": "python",
      "name": "python3"
    },
    "language_info": {
      "codemirror_mode": {
        "name": "ipython",
        "version": 3
      },
      "file_extension": ".py",
      "mimetype": "text/x-python",
      "name": "python",
      "nbconvert_exporter": "python",
      "pygments_lexer": "ipython3",
      "version": "3.7.4"
    },
    "colab": {
      "name": "zad1.ipynb",
      "provenance": [],
      "collapsed_sections": []
    }
  },
  "cells": [
    {
      "cell_type": "code",
      "metadata": {
        "id": "v88LjA49mMvm",
        "colab_type": "code",
        "colab": {}
      },
      "source": [
        "from keras.models import Sequential\n",
        "from keras.layers import Dense, Input\n",
        "from keras import optimizers\n",
        "import numpy as np\n",
        "import matplotlib.pyplot as plt\n",
        "from IPython.display import clear_output"
      ],
      "execution_count": 0,
      "outputs": []
    },
    {
      "cell_type": "markdown",
      "metadata": {
        "id": "_72o8vbOFhy9",
        "colab_type": "text"
      },
      "source": [
        "# Parabola \n",
        "z wykorzystaniem relu, z warstwami 10 i 20 oraz optimizerem Adama"
      ]
    },
    {
      "cell_type": "code",
      "metadata": {
        "id": "ozSKdAVamMv0",
        "colab_type": "code",
        "colab": {}
      },
      "source": [
        "model = Sequential()\n",
        "model.add(Dense(units=20, activation='relu', input_dim=2))\n",
        "model.add(Dense(units=20, activation='relu'))\n",
        "model.add(Dense(units=1, activation='relu'))\n",
        "model.compile(loss='mean_squared_error', optimizer=optimizers.Adam(lr=0.01))"
      ],
      "execution_count": 0,
      "outputs": []
    },
    {
      "cell_type": "code",
      "metadata": {
        "id": "Vbm4Li6pmMwD",
        "colab_type": "code",
        "colab": {}
      },
      "source": [
        "X = np.linspace(-50, 50, 26)\n",
        "x = np.array([[z, 1.0] for z in X])\n",
        "y = np.array([[z**2] for z in X])\n",
        "X_test = np.linspace(-50,50,101)\n",
        "x_test = np.array([[z, 1.0] for z in X_test])"
      ],
      "execution_count": 0,
      "outputs": []
    },
    {
      "cell_type": "code",
      "metadata": {
        "id": "PNJvyNfXmMwN",
        "colab_type": "code",
        "outputId": "0a325f1c-d0e4-4bb3-8bb9-4c2880d8535d",
        "colab": {
          "base_uri": "https://localhost:8080/",
          "height": 281
        }
      },
      "source": [
        "for i in range(200):\n",
        "    model.fit(x, y, epochs=100, verbose=False)\n",
        "    clear_output(wait=True)\n",
        "    plt.title(\"Simulation, step: {}\".format(i*100))\n",
        "    plt.scatter(X_test, model.predict(x_test))\n",
        "    plt.show()"
      ],
      "execution_count": 91,
      "outputs": [
        {
          "output_type": "display_data",
          "data": {
            "image/png": "[encoded data removed]",
            "text/plain": [
              "<Figure size 432x288 with 1 Axes>"
            ]
          },
          "metadata": {
            "tags": [],
            "needs_background": "light"
          }
        }
      ]
    },
    {
      "cell_type": "markdown",
      "metadata": {
        "id": "-ChO9N2mK86M",
        "colab_type": "text"
      },
      "source": [
        "**Wyniki przeciętne, przez dłużyszy czas przypomina funkcję |x|. Na końcu widać parę ostrych zakończeń**"
      ]
    },
    {
      "cell_type": "markdown",
      "metadata": {
        "id": "ZAj-iskDLKYC",
        "colab_type": "text"
      },
      "source": [
        "Wykorzystam teraz sigmoid w pierwszej warstwie, a reszta pozostanie z relu\n"
      ]
    },
    {
      "cell_type": "code",
      "metadata": {
        "colab_type": "code",
        "id": "fUJbVN4aLiCu",
        "colab": {}
      },
      "source": [
        "model = Sequential()\n",
        "model.add(Dense(units=20, activation='relu', input_dim=2))\n",
        "model.add(Dense(units=20, activation='relu'))\n",
        "model.add(Dense(units=1, activation='relu'))\n",
        "model.compile(loss='mean_squared_error', optimizer=optimizers.Adam(lr=0.001))"
      ],
      "execution_count": 0,
      "outputs": []
    },
    {
      "cell_type": "code",
      "metadata": {
        "id": "ySX_oGRiLeUc",
        "colab_type": "code",
        "colab": {}
      },
      "source": [
        "X = np.linspace(-50, 50, 26)\n",
        "x = np.array([[z, 1.0] for z in X])\n",
        "y = np.array([[z**2] for z in X])\n",
        "X_test = np.linspace(-50,50,101)\n",
        "x_test = np.array([[z, 1.0] for z in X_test])"
      ],
      "execution_count": 0,
      "outputs": []
    },
    {
      "cell_type": "code",
      "metadata": {
        "id": "RVNiBJFfLeca",
        "colab_type": "code",
        "colab": {
          "base_uri": "https://localhost:8080/",
          "height": 281
        },
        "outputId": "0215b954-0232-4009-f49a-f95cbdd09dca"
      },
      "source": [
        "for i in range(200):\n",
        "    model.fit(x, y, epochs=100, verbose=False)\n",
        "    clear_output(wait=True)\n",
        "    plt.title(\"Simulation, step: {}\".format(i*100))\n",
        "    plt.scatter(X_test, model.predict(x_test))\n",
        "    plt.show()"
      ],
      "execution_count": 87,
      "outputs": [
        {
          "output_type": "display_data",
          "data": {
            "image/png": "[encoded data removed]",
            "text/plain": [
              "<Figure size 432x288 with 1 Axes>"
            ]
          },
          "metadata": {
            "tags": [],
            "needs_background": "light"
          }
        }
      ]
    },
    {
      "cell_type": "markdown",
      "metadata": {
        "id": "2tYpEdtCLygA",
        "colab_type": "text"
      },
      "source": [
        "**Już przy 10k kroków dobrze odwzorowuje parabolę**\n"
      ]
    },
    {
      "cell_type": "markdown",
      "metadata": {
        "id": "RYXACbY-MkG2",
        "colab_type": "text"
      },
      "source": [
        "# Sinus\n",
        "\n",
        "z warstwami 10, 20, 10, wszystkie z tanh\n",
        "\n"
      ]
    },
    {
      "cell_type": "code",
      "metadata": {
        "id": "yHk5qBYqmMwX",
        "colab_type": "code",
        "colab": {}
      },
      "source": [
        "model = Sequential()\n",
        "model.add(Dense(units=10, activation='tanh', input_dim=1))\n",
        "model.add(Dense(units=20, activation='tanh'))\n",
        "model.add(Dense(units=10, activation='tanh'))\n",
        "model.add(Dense(units=1, activation='tanh'))\n",
        "model.compile(loss='mean_squared_error', optimizer=optimizers.Adam(lr=0.001))"
      ],
      "execution_count": 0,
      "outputs": []
    },
    {
      "cell_type": "code",
      "metadata": {
        "id": "-9Ifza1jmMwh",
        "colab_type": "code",
        "colab": {}
      },
      "source": [
        "x = np.linspace(0, 2, 21).reshape(21, 1)\n",
        "y = np.sin((3*np.pi/2) * x)\n",
        "x_test = np.linspace(0, 2, 161).reshape(161, 1)"
      ],
      "execution_count": 0,
      "outputs": []
    },
    {
      "cell_type": "code",
      "metadata": {
        "id": "PyvqNyBImMwp",
        "colab_type": "code",
        "outputId": "95bd533c-18d5-4445-f3f5-14e9dacd1167",
        "colab": {
          "base_uri": "https://localhost:8080/",
          "height": 281
        }
      },
      "source": [
        "for i in range(20):\n",
        "    model.fit(x, y, epochs=500, verbose=False)\n",
        "    clear_output(wait=True)\n",
        "    plt.title(\"Simulation, step: {}\".format(i*500))\n",
        "    plt.scatter(x_test, model.predict(x_test))\n",
        "    plt.show()"
      ],
      "execution_count": 144,
      "outputs": [
        {
          "output_type": "display_data",
          "data": {
            "image/png": "[encoded data removed]",
            "text/plain": [
              "<Figure size 432x288 with 1 Axes>"
            ]
          },
          "metadata": {
            "tags": [],
            "needs_background": "light"
          }
        }
      ]
    },
    {
      "cell_type": "markdown",
      "metadata": {
        "id": "5D-HMLdWPucJ",
        "colab_type": "text"
      },
      "source": [
        "z warstwami 20, 20, ale więcej epochów\n"
      ]
    },
    {
      "cell_type": "code",
      "metadata": {
        "colab_type": "code",
        "id": "S3LHjQPSPj1l",
        "colab": {}
      },
      "source": [
        "model = Sequential()\n",
        "model.add(Dense(units=20, activation='tanh', input_dim=1))\n",
        "model.add(Dense(units=20, activation='tanh'))\n",
        "model.add(Dense(units=1, activation='tanh'))\n",
        "model.compile(loss='mean_squared_error', optimizer=optimizers.Adam(lr=0.001))"
      ],
      "execution_count": 0,
      "outputs": []
    },
    {
      "cell_type": "code",
      "metadata": {
        "colab_type": "code",
        "id": "r_NyD9IaPni3",
        "colab": {}
      },
      "source": [
        "x = np.linspace(0, 2, 21).reshape(21, 1)\n",
        "y = np.sin((3*np.pi/2) * x)\n",
        "x_test = np.linspace(0, 2, 161).reshape(161, 1)"
      ],
      "execution_count": 0,
      "outputs": []
    },
    {
      "cell_type": "code",
      "metadata": {
        "colab_type": "code",
        "outputId": "a8c15f84-1c8d-48b3-bcc4-4b96c10bae93",
        "id": "Tkwrp5IjPqd2",
        "colab": {
          "base_uri": "https://localhost:8080/",
          "height": 281
        }
      },
      "source": [
        "for i in range(20):\n",
        "    model.fit(x, y, epochs=1000, verbose=False)\n",
        "    clear_output(wait=True)\n",
        "    plt.title(\"Simulation, step: {}\".format(i*1000))\n",
        "    plt.scatter(x_test, model.predict(x_test))\n",
        "    plt.show()"
      ],
      "execution_count": 143,
      "outputs": [
        {
          "output_type": "display_data",
          "data": {
            "image/png": "[encoded data removed]",
            "text/plain": [
              "<Figure size 432x288 with 1 Axes>"
            ]
          },
          "metadata": {
            "tags": [],
            "needs_background": "light"
          }
        }
      ]
    }
  ]
}